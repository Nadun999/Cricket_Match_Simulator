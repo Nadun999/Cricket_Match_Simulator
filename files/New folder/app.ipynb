{
 "cells": [
  {
   "cell_type": "code",
   "execution_count": 3,
   "metadata": {},
   "outputs": [
    {
     "name": "stdout",
     "output_type": "stream",
     "text": [
      "aaaa\n",
      "aaaa\n",
      "aaaa\n",
      "aaaa\n",
      "aaaa\n",
      "aaaa\n",
      "xxxx\n"
     ]
    }
   ],
   "source": [
    "while getData != 'x':\n",
    "    getData = input(\"Do you want to see any team or player profiles?\\n1 - yes \\n0 - no \\n Select 1 or 0 :  \\nPress x to exit\")\n",
    "    if getData == 'x':\n",
    "        break;\n",
    "    else:\n",
    "        getGroup = input(\"Which group do you want to see? \\n1 - group A \\n2 - group B \\n Select 1 or 2:  \\nPress x to exit\")\n",
    "        if getGroup == 1:\n",
    "            getTeam = input(\"Which team do you want to see? \\n1 - Mumbai India \\n2 - Chennai SouthAfrica \\n3 - Delhi NewZealand \\n4 - RoyalChallengers Bangladesh \\n Select a number from 1 to 4 \\nPress x to exit\")\n",
    "            if getTeam in range(1, 5):\n",
    "                \n",
    "            elif getGroup == 'x':\n",
    "                break;\n",
    "            else:\n",
    "                print(\"Bad input\")\n",
    "                break;              \n",
    "        elif getGroup == 2:\n",
    "        elif getGroup == 'x':\n",
    "            break;\n",
    "        else:\n",
    "            print(\"Bad input\")\n",
    "            break;    \n",
    "print(\"end\")"
   ]
  }
 ],
 "metadata": {
  "interpreter": {
   "hash": "781abccf0da36be2ab8aa05f1693bdc0026ef2a68e9f55a9ffd253c15e633c01"
  },
  "kernelspec": {
   "display_name": "Python 3.9.1 64-bit",
   "language": "python",
   "name": "python3"
  },
  "language_info": {
   "codemirror_mode": {
    "name": "ipython",
    "version": 3
   },
   "file_extension": ".py",
   "mimetype": "text/x-python",
   "name": "python",
   "nbconvert_exporter": "python",
   "pygments_lexer": "ipython3",
   "version": "3.9.1"
  },
  "orig_nbformat": 4
 },
 "nbformat": 4,
 "nbformat_minor": 2
}

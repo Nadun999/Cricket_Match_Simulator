{
 "cells": [
  {
   "cell_type": "code",
   "execution_count": 411,
   "metadata": {},
   "outputs": [],
   "source": [
    "Mumbai_India = ['Mumbai_India',\n",
    "                r'E:\\\\IIT\\\\1st Year\\\\1st Trimester\\\\CM1601 [PRO]  Programming Fundamentals\\\\Course Work\\\\team_data\\\\Mumbai_India\\\\Mumbai_India.xlsx']\n",
    "Chennai_SouthAfrica = ['Chennai_SouthAfrica',\n",
    "                       r'E:\\\\IIT\\\\1st Year\\\\1st Trimester\\\\CM1601 [PRO]  Programming Fundamentals\\\\Course Work\\\\team_data\\\\Chennai_SouthAfrica\\\\Chennai_SouthAfrica.xlsx']\n",
    "Delhi_NewZealand = ['Delhi_NewZealand',\n",
    "                    r'E:\\\\IIT\\\\1st Year\\\\1st Trimester\\\\CM1601 [PRO]  Programming Fundamentals\\\\Course Work\\\\team_data\\\\Delhi_NewZealand\\\\Delhi_NewZealand.xlsx']\n",
    "RoyalChallengers_Bangladesh = ['RoyalChallengers_Bangladesh',\n",
    "                               r'E:\\\\IIT\\\\1st Year\\\\1st Trimester\\\\CM1601 [PRO]  Programming Fundamentals\\\\Course Work\\\\team_data\\\\RoyalChallengers_Bangladesh\\\\RoyalChallengers_Bangladesh.xlsx']\n",
    "Rajastan_Australia = ['Rajastan_Australia',\n",
    "                      r'E:\\\\IIT\\\\1st Year\\\\1st Trimester\\\\CM1601 [PRO]  Programming Fundamentals\\\\Course Work\\\\team_data\\\\Rajastan_Australia\\\\Rajastan_Australia.xlsx']\n",
    "Kolkata_England = ['Kolkata_England',\n",
    "                   r'E:\\\\IIT\\\\1st Year\\\\1st Trimester\\\\CM1601 [PRO]  Programming Fundamentals\\\\Course Work\\\\team_data\\\\Kolkata_England\\\\Kolkata_England.xlsx']\n",
    "Punjab_Pakistan = ['Punjab_Pakistan',\n",
    "                   r'E:\\\\IIT\\\\1st Year\\\\1st Trimester\\\\CM1601 [PRO]  Programming Fundamentals\\\\Course Work\\\\team_data\\\\Punjab_Pakistan\\\\Punjab_Pakistan.xlsx']\n",
    "Sunrisers_SriLanka = ['Sunrisers_SriLanka',\n",
    "                      r'E:\\\\IIT\\\\1st Year\\\\1st Trimester\\\\CM1601 [PRO]  Programming Fundamentals\\\\Course Work\\\\team_data\\\\Sunrisers_SriLanka\\\\Sunrisers_SriLanka.xlsx']"
   ]
  },
  {
   "cell_type": "code",
   "execution_count": 412,
   "metadata": {},
   "outputs": [],
   "source": [
    "Group_A = [Mumbai_India, Chennai_SouthAfrica,\n",
    "           Delhi_NewZealand, RoyalChallengers_Bangladesh]\n",
    "Group_B = [Rajastan_Australia, Kolkata_England,\n",
    "           Punjab_Pakistan, Sunrisers_SriLanka]\n",
    "\n",
    "match_between = []"
   ]
  },
  {
   "cell_type": "code",
   "execution_count": 413,
   "metadata": {},
   "outputs": [
    {
     "name": "stdout",
     "output_type": "stream",
     "text": [
      "11\n",
      "Delhi_NewZealand_vs_RoyalChallengers_Bangladesh.xlsx RoyalChallengers_Bangladesh_vs_Delhi_NewZealand.xlsx\n",
      "<class 'str'>\n",
      "inside\n"
     ]
    }
   ],
   "source": [
    "import os, random\n",
    "\n",
    "match_list = os.listdir(\n",
    "        r'E:\\\\IIT\\\\1st Year\\\\1st Trimester\\CM1601 [PRO]  Programming Fundamentals\\\\Course Work\\\\tournament\\\\matches')\n",
    "match_list_count = len(match_list)\n",
    "match_list_count = match_list_count if match_list_count > 0 else 1\n",
    "print(match_list_count)\n",
    "\n",
    "if match_list_count != 12:\n",
    "    for i in range(match_list_count):\n",
    "        match_between_A = random.sample(Group_A, 2)\n",
    "        match_between_B = random.sample(Group_B, 2)\n",
    "\n",
    "        chosen_match = [match_between_A, match_between_B]\n",
    "        global match_between\n",
    "        temp_match_between = random.choice(chosen_match)\n",
    "        # print('\\ntemp_match_between', temp_match_between[0][0], temp_match_between[1][0])\n",
    "\n",
    "        temp1 = str(temp_match_between[0][0]) + '_vs_' + \\\n",
    "            str(temp_match_between[1][0]+'.xlsx')\n",
    "        temp2 = str(temp_match_between[1][0]) + '_vs_' + \\\n",
    "            str(temp_match_between[0][0]+'.xlsx')\n",
    "        print(temp1, temp2)\n",
    "        \n",
    "        print(type(match_list[0]))\n",
    "\n",
    "        # if ('Chennai_SouthAfrica_vs_Delhi_NewZealand.xlsx' in match_list == False) or ('Delhi_NewZealand_vs_Chennai_SouthAfrica.xlsx' in match_list == False):\n",
    "        if 'RoyalChallengers_Bangladesh_vs_Delhi_NewZealand.xlsx' not in match_list:\n",
    "            print(\"inside\")\n",
    "            match_between = temp_match_between\n",
    "            # print(\n",
    "            #     '---------------generate_random_match match_between------------', match_between)\n",
    "            break\n",
    "        elif 'Delhi_NewZealand_vs_RoyalChallengers_Bangladesh.xlsx' not in match_list:\n",
    "            print('elif')\n",
    "        else:\n",
    "            print('else')\n",
    "else:\n",
    "    match_between = []\n",
    "    raise IndexError('A very specific bad thing happened.')"
   ]
  },
  {
   "cell_type": "code",
   "execution_count": 415,
   "metadata": {},
   "outputs": [
    {
     "name": "stdout",
     "output_type": "stream",
     "text": [
      "0\n",
      "1\n",
      "2\n",
      "3\n",
      "4\n",
      "5\n",
      "6\n",
      "7\n",
      "8\n",
      "9\n",
      "10\n"
     ]
    }
   ],
   "source": [
    "for i in range(11):\n",
    "    print(i)"
   ]
  },
  {
   "cell_type": "code",
   "execution_count": null,
   "metadata": {},
   "outputs": [],
   "source": [
    "def generate_random_match():\n",
    "    match_list = os.listdir(\n",
    "        r'E:\\\\IIT\\\\1st Year\\\\1st Trimester\\CM1601 [PRO]  Programming Fundamentals\\\\Course Work\\\\tournament\\\\matches')\n",
    "    match_list_count = len(match_list)\n",
    "    match_list_count = match_list_count if match_list_count > 0 else 1\n",
    "    # print(match_list_count)\n",
    "\n",
    "    if match_list_count != 12:\n",
    "        for i in range(match_list_count):\n",
    "            match_between_A = random.sample(Group_A, 2)\n",
    "            match_between_B = random.sample(Group_B, 2)\n",
    "\n",
    "            chosen_match = [match_between_A, match_between_B]\n",
    "            global match_between\n",
    "            temp_match_between = random.choice(chosen_match)\n",
    "\n",
    "            temp1 = str(temp_match_between[0][0]) + '_vs_' + \\\n",
    "                str(temp_match_between[1][0]+'.xlsx')\n",
    "            temp2 = str(temp_match_between[1][0]) + '_vs_' + \\\n",
    "                str(temp_match_between[0][0]+'.xlsx')\n",
    "            print(temp1, temp2)\n",
    "\n",
    "            if (temp1 not in match_list) and (temp2 not in match_list):\n",
    "                match_between = temp_match_between\n",
    "                print(\n",
    "                    '---------------generate_random_match match_between------------', match_between)\n",
    "                break\n",
    "    else:\n",
    "        match_between = []\n",
    "        raise IndexError('A very specific bad thing happened.')"
   ]
  }
 ],
 "metadata": {
  "interpreter": {
   "hash": "781abccf0da36be2ab8aa05f1693bdc0026ef2a68e9f55a9ffd253c15e633c01"
  },
  "kernelspec": {
   "display_name": "Python 3.9.1 64-bit",
   "language": "python",
   "name": "python3"
  },
  "language_info": {
   "codemirror_mode": {
    "name": "ipython",
    "version": 3
   },
   "file_extension": ".py",
   "mimetype": "text/x-python",
   "name": "python",
   "nbconvert_exporter": "python",
   "pygments_lexer": "ipython3",
   "version": "3.9.1"
  },
  "orig_nbformat": 4
 },
 "nbformat": 4,
 "nbformat_minor": 2
}

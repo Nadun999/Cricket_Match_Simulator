{
 "cells": [
  {
   "cell_type": "code",
   "execution_count": 180,
   "metadata": {},
   "outputs": [],
   "source": [
    "batting = [['Temba Bavuma(C)', 8, 3, 'Bowled', ' Mustafizur Rahman', 1], ['Quinton de Kock', 2, 2, 'Bowled', ' Shoriful Islam', 2], ['Rassie Va der Dussen', 51, 23, 'Caught', ' Mustafizur Rahman', 3], ['Aiden Markram', 30, 13, 'Bowled', ' Shoriful Islam', 4], ['David Miller', 23, 11, 'LBW', ' Shamim Hossain', 5], ['Reeza Hendricks', 11, 6, 'Caught', ' Shoriful Islam', 6], ['Dwaine Pretorius', 0, 1, 'LBW', ' Shamim Hossain', 7], ['Kagiso Rabada', 3, 2, 'LBW', ' Shamim Hossain', 8], ['Keshav Maharaj', 37, 16, 'LBW', ' Shoriful Islam', 9], ['Anrich Nortje', 12, 6, 'Bowled', ' Mahedi Hasan', 10], ['Tabraiz Shamsi', 21, 9, 'NOT OUT', ' ', 11]]"
   ]
  },
  {
   "cell_type": "code",
   "execution_count": 181,
   "metadata": {},
   "outputs": [],
   "source": [
    "bowling = [['Mustafizur Rahman', '3.0', 29, 2, 9.67], ['Taskin Ahmed', '3.0', 50, 0, 16.67], ['Mahedi Hasan', '3.0', 42, 1, 14.0], ['Shamim Hossain', '3.0', 37, 3, 12.33], ['Shoriful Islam', '3.2', 40, 4, 12.5]]"
   ]
  },
  {
   "cell_type": "code",
   "execution_count": 182,
   "metadata": {},
   "outputs": [],
   "source": [
    "import pandas as pd\n",
    "\n",
    "player_standings = pd.read_excel(\n",
    "    r'E:\\\\IIT\\\\1st Year\\\\1st Trimester\\\\CM1601 [PRO]  Programming Fundamentals\\\\Course Work\\\\tournament\\\\player_standings.xlsx')\n",
    "df_player_standings = pd.DataFrame(player_standings)\n",
    "# df_player_standings"
   ]
  },
  {
   "cell_type": "code",
   "execution_count": null,
   "metadata": {},
   "outputs": [],
   "source": [
    "\n",
    "def player_standings():\n",
    "    player_standings = pd.read_excel(\n",
    "        r'E:\\\\IIT\\\\1st Year\\\\1st Trimester\\\\CM1601 [PRO]  Programming Fundamentals\\\\Course Work\\\\tournament\\\\player_standings.xlsx')\n",
    "    df_player_standings = pd.DataFrame(player_standings)\n",
    "\n",
    "    for player in batting:\n",
    "        find_player_index = df_player_standings.index[df_player_standings['PLAYER NAME'] == player[0]].tolist()\n",
    "        current_player_runs = df_player_standings.at[find_player_index[0], 'TOTAL RUNS']\n",
    "        df_player_standings.at[find_player_index,'TOTAL RUNS'] = current_player_runs+player[1]\n",
    "        \n",
    "\n",
    "    writer = pd.ExcelWriter(\n",
    "        r'E:\\\\IIT\\\\1st Year\\\\1st Trimester\\\\CM1601 [PRO]  Programming Fundamentals\\\\Course Work\\\\tournament\\\\player_standings.xlsx', engine='xlsxwriter')\n",
    "    workbook = writer.book\n",
    "    worksheet = workbook.add_worksheet('Sheet1')\n",
    "    writer.sheets['Sheet1'] = worksheet\n",
    "    df_player_standings.to_excel(writer, sheet_name='Sheet1', startrow=0, startcol=0, index=False)\n",
    "\n",
    "    writer.save()\n",
    "    writer.close()\n",
    "\n",
    "    for player in bowling:\n",
    "        find_player_index = df_player_standings.index[df_player_standings['PLAYER NAME'] == player[0]].tolist()\n",
    "        current_player_wickets = df_player_standings.at[find_player_index[0], 'WICKETS']\n",
    "        df_player_standings.at[find_player_index,'WICKETS'] = current_player_wickets+player[3]\n",
    "        \n",
    "\n",
    "    writer = pd.ExcelWriter(\n",
    "        r'E:\\\\IIT\\\\1st Year\\\\1st Trimester\\\\CM1601 [PRO]  Programming Fundamentals\\\\Course Work\\\\tournament\\\\player_standings.xlsx', engine='xlsxwriter')\n",
    "    workbook = writer.book\n",
    "    worksheet = workbook.add_worksheet('Sheet1')\n",
    "    writer.sheets['Sheet1'] = worksheet\n",
    "    df_player_standings.to_excel(writer, sheet_name='Sheet1', startrow=0, startcol=0, index=False)\n",
    "\n",
    "    writer.save()\n",
    "    writer.close()\n"
   ]
  },
  {
   "cell_type": "code",
   "execution_count": 183,
   "metadata": {},
   "outputs": [],
   "source": [
    "for player in batting:\n",
    "    find_player_index = df_player_standings.index[df_player_standings['PLAYER NAME'] == player[0]].tolist()\n",
    "    current_player_runs = df_player_standings.at[find_player_index[0], 'TOTAL RUNS']\n",
    "    df_player_standings.at[find_player_index,'TOTAL RUNS'] = current_player_runs+player[1]\n",
    "    \n",
    "\n",
    "writer = pd.ExcelWriter(\n",
    "    r'E:\\\\IIT\\\\1st Year\\\\1st Trimester\\\\CM1601 [PRO]  Programming Fundamentals\\\\Course Work\\\\tournament\\\\player_standings.xlsx', engine='xlsxwriter')\n",
    "workbook = writer.book\n",
    "worksheet = workbook.add_worksheet('Sheet1')\n",
    "writer.sheets['Sheet1'] = worksheet\n",
    "df_player_standings.to_excel(writer, sheet_name='Sheet1', startrow=0, startcol=0, index=False)\n",
    "\n",
    "writer.save()\n",
    "writer.close()"
   ]
  },
  {
   "cell_type": "code",
   "execution_count": 184,
   "metadata": {},
   "outputs": [],
   "source": [
    "for player in bowling:\n",
    "    find_player_index = df_player_standings.index[df_player_standings['PLAYER NAME'] == player[0]].tolist()\n",
    "    current_player_wickets = df_player_standings.at[find_player_index[0], 'WICKETS']\n",
    "    df_player_standings.at[find_player_index,'WICKETS'] = current_player_wickets+player[3]\n",
    "    \n",
    "\n",
    "writer = pd.ExcelWriter(\n",
    "    r'E:\\\\IIT\\\\1st Year\\\\1st Trimester\\\\CM1601 [PRO]  Programming Fundamentals\\\\Course Work\\\\tournament\\\\player_standings.xlsx', engine='xlsxwriter')\n",
    "workbook = writer.book\n",
    "worksheet = workbook.add_worksheet('Sheet1')\n",
    "writer.sheets['Sheet1'] = worksheet\n",
    "df_player_standings.to_excel(writer, sheet_name='Sheet1', startrow=0, startcol=0, index=False)\n",
    "\n",
    "writer.save()\n",
    "writer.close()"
   ]
  }
 ],
 "metadata": {
  "interpreter": {
   "hash": "781abccf0da36be2ab8aa05f1693bdc0026ef2a68e9f55a9ffd253c15e633c01"
  },
  "kernelspec": {
   "display_name": "Python 3.9.1 64-bit",
   "language": "python",
   "name": "python3"
  },
  "language_info": {
   "codemirror_mode": {
    "name": "ipython",
    "version": 3
   },
   "file_extension": ".py",
   "mimetype": "text/x-python",
   "name": "python",
   "nbconvert_exporter": "python",
   "pygments_lexer": "ipython3",
   "version": "3.9.1"
  },
  "orig_nbformat": 4
 },
 "nbformat": 4,
 "nbformat_minor": 2
}
